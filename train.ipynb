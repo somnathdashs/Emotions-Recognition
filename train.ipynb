{
 "cells": [
  {
   "cell_type": "code",
   "execution_count": 1,
   "metadata": {},
   "outputs": [],
   "source": [
    "import os\n",
    "import numpy as np\n",
    "import matplotlib.pyplot as plt\n",
    "# from imgaug import augmenters as ia\n",
    "import pandas as pd\n",
    "import cv2,pickle\n",
    "from tensorflow.keras import models,layers\n",
    "from tensorflow.keras.optimizers import Adam,SGD\n",
    "from sklearn.model_selection import train_test_split as tts"
   ]
  },
  {
   "cell_type": "code",
   "execution_count": 2,
   "metadata": {},
   "outputs": [],
   "source": [
    "fx=open(\"./X.pkl\",'rb')\n",
    "X=pickle.load(fx)\n"
   ]
  },
  {
   "cell_type": "code",
   "execution_count": 3,
   "metadata": {},
   "outputs": [],
   "source": [
    "fy=open(\"./Y_binary.pkl\",'rb')\n",
    "Y=pickle.load(fy)\n"
   ]
  },
  {
   "cell_type": "code",
   "execution_count": 4,
   "metadata": {},
   "outputs": [],
   "source": [
    "NY=[]\n",
    "# ['angry', 'fear', 'happy', 'neutral', 'sad', 'surprise']\n",
    "for y in Y:\n",
    "    if y == 0:\n",
    "        NY.append([1,0,0,0,0,0])\n",
    "    elif y == 1:\n",
    "        NY.append([0,1,0,0,0,0])\n",
    "    elif y == 2:\n",
    "        NY.append([0,0,1,0,0,0])\n",
    "    elif y == 3:\n",
    "        NY.append([0,0,0,1,0,0])\n",
    "    elif y == 4:\n",
    "        NY.append([0,0,0,0,1,0])\n",
    "    elif y == 5:\n",
    "        NY.append([0,0,0,0,0,1])\n",
    "    \n",
    "NY=np.array(NY)"
   ]
  },
  {
   "cell_type": "code",
   "execution_count": 5,
   "metadata": {},
   "outputs": [],
   "source": [
    "X_train,X_test,Y_train,Ytest=tts(X,NY,test_size=0.2,shuffle=True)"
   ]
  },
  {
   "cell_type": "code",
   "execution_count": 6,
   "metadata": {},
   "outputs": [
    {
     "data": {
      "text/plain": [
       "(22708, 48, 48, 3)"
      ]
     },
     "execution_count": 6,
     "metadata": {},
     "output_type": "execute_result"
    }
   ],
   "source": [
    "X_train.shape "
   ]
  },
  {
   "cell_type": "code",
   "execution_count": 13,
   "metadata": {},
   "outputs": [
    {
     "data": {
      "text/plain": [
       "(22708, 6)"
      ]
     },
     "execution_count": 13,
     "metadata": {},
     "output_type": "execute_result"
    }
   ],
   "source": [
    "Y_train.shape"
   ]
  },
  {
   "cell_type": "code",
   "execution_count": 20,
   "metadata": {},
   "outputs": [],
   "source": [
    "Model=models.Sequential([\n",
    "    layers.Conv2D(16,(2,2),input_shape=(48,48,3),activation='relu'),\n",
    "    layers.Conv2D(32,(2,2),activation='relu'),\n",
    "    layers.MaxPool2D((2,2)),\n",
    "    layers.Conv2D(64,(2,2),activation='relu'),\n",
    "    layers.MaxPool2D((2,2)),\n",
    "    layers.Conv2D(128,(2,2),activation='relu'),\n",
    "    # layers.MaxPool2D((2,2)),\n",
    "    layers.Flatten(),\n",
    "    layers.Dense(128,activation='relu'),\n",
    "    layers.Dropout(0.2),\n",
    "    layers.Dense(64,activation='relu'),\n",
    "    layers.Dropout(0.2),\n",
    "    layers.Dense(36,activation='relu'),\n",
    "    layers.Dense(6,activation='softmax')\n",
    "    ])\n",
    "\n",
    "# Model.compile(Adam(learning_rate=0.1),loss='binary_crossentropy',metrics=['accuracy'])\n",
    "# Model.compile(optimizer='adam',loss='sparse_categorical_crossentropy',metrics=['accuracy'])\n",
    "Model.compile(Adam(learning_rate=0.001),loss='binary_crossentropy',metrics=['accuracy'])"
   ]
  },
  {
   "cell_type": "code",
   "execution_count": 21,
   "metadata": {},
   "outputs": [
    {
     "name": "stdout",
     "output_type": "stream",
     "text": [
      "Model: \"sequential_3\"\n",
      "_________________________________________________________________\n",
      " Layer (type)                Output Shape              Param #   \n",
      "=================================================================\n",
      " conv2d_10 (Conv2D)          (None, 47, 47, 16)        208       \n",
      "                                                                 \n",
      " conv2d_11 (Conv2D)          (None, 46, 46, 32)        2080      \n",
      "                                                                 \n",
      " max_pooling2d_8 (MaxPooling  (None, 23, 23, 32)       0         \n",
      " 2D)                                                             \n",
      "                                                                 \n",
      " conv2d_12 (Conv2D)          (None, 22, 22, 64)        8256      \n",
      "                                                                 \n",
      " max_pooling2d_9 (MaxPooling  (None, 11, 11, 64)       0         \n",
      " 2D)                                                             \n",
      "                                                                 \n",
      " conv2d_13 (Conv2D)          (None, 10, 10, 128)       32896     \n",
      "                                                                 \n",
      " flatten_3 (Flatten)         (None, 12800)             0         \n",
      "                                                                 \n",
      " dense_12 (Dense)            (None, 128)               1638528   \n",
      "                                                                 \n",
      " dropout_2 (Dropout)         (None, 128)               0         \n",
      "                                                                 \n",
      " dense_13 (Dense)            (None, 64)                8256      \n",
      "                                                                 \n",
      " dropout_3 (Dropout)         (None, 64)                0         \n",
      "                                                                 \n",
      " dense_14 (Dense)            (None, 36)                2340      \n",
      "                                                                 \n",
      " dense_15 (Dense)            (None, 6)                 222       \n",
      "                                                                 \n",
      "=================================================================\n",
      "Total params: 1,692,786\n",
      "Trainable params: 1,692,786\n",
      "Non-trainable params: 0\n",
      "_________________________________________________________________\n"
     ]
    }
   ],
   "source": [
    "Model.summary()"
   ]
  },
  {
   "cell_type": "code",
   "execution_count": 17,
   "metadata": {},
   "outputs": [],
   "source": [
    "from tensorflow.keras import callbacks\n",
    "model_no=0"
   ]
  },
  {
   "attachments": {},
   "cell_type": "markdown",
   "metadata": {},
   "source": [
    "Load Pre Model"
   ]
  },
  {
   "cell_type": "code",
   "execution_count": 17,
   "metadata": {},
   "outputs": [],
   "source": [
    "name=os.listdir(\"./Models\")[-1]\n",
    "path=\"./Models/\"+name\n",
    "model_no=int(str(name).split(\"_\")[-1].split(\".\")[0])\n",
    "Model.load_weights(path)"
   ]
  },
  {
   "cell_type": "code",
   "execution_count": 18,
   "metadata": {},
   "outputs": [],
   "source": [
    "class callback(callbacks.Callback):\n",
    "    def on_epoch_end(self, epoch, logs=None):\n",
    "        Model.save_weights(f\"./Models1/Model_{(epoch+1)+model_no}.h5\")\n",
    "        return super().on_epoch_end(epoch, logs)\n",
    "\n",
    "# savemodel=callbacks.ModelCheckpoint(filepath=)"
   ]
  },
  {
   "cell_type": "code",
   "execution_count": null,
   "metadata": {},
   "outputs": [],
   "source": [
    "Model.fit(X_train,Y_train,epochs=50,batch_size=500,callbacks=[callback()])"
   ]
  },
  {
   "cell_type": "code",
   "execution_count": null,
   "metadata": {},
   "outputs": [],
   "source": [
    "Model.evaluate(X_test,Ytest)"
   ]
  }
 ],
 "metadata": {
  "kernelspec": {
   "display_name": "Python 3",
   "language": "python",
   "name": "python3"
  },
  "language_info": {
   "codemirror_mode": {
    "name": "ipython",
    "version": 3
   },
   "file_extension": ".py",
   "mimetype": "text/x-python",
   "name": "python",
   "nbconvert_exporter": "python",
   "pygments_lexer": "ipython3",
   "version": "3.7.0 (v3.7.0:1bf9cc5093, Jun 27 2018, 04:59:51) [MSC v.1914 64 bit (AMD64)]"
  },
  "orig_nbformat": 4,
  "vscode": {
   "interpreter": {
    "hash": "e47368d29204983708f2837840837dba8cdc682d02472bd146cf4fb2d32fdf57"
   }
  }
 },
 "nbformat": 4,
 "nbformat_minor": 2
}
