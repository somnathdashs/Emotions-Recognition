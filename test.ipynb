{
 "cells": [
  {
   "cell_type": "code",
   "execution_count": null,
   "metadata": {},
   "outputs": [],
   "source": [
    "import cv2,pickle,os,numpy\n",
    "from tensorflow.keras.models import load_model"
   ]
  },
  {
   "cell_type": "code",
   "execution_count": null,
   "metadata": {},
   "outputs": [],
   "source": [
    "Classes=['angry', 'fear', 'happy', 'neutral', 'sad', 'surprise']"
   ]
  },
  {
   "cell_type": "code",
   "execution_count": null,
   "metadata": {},
   "outputs": [],
   "source": [
    "PAth=[]\n",
    "label=[]\n",
    "X=[]\n",
    "u=os.listdir(\"./Dataset/images/validation/\")\n",
    "u.pop(1)\n",
    "for fol in u:\n",
    "    p=\"./Dataset/images/validation/\"+fol\n",
    "    for img in os.listdir(p):\n",
    "        PAth.append(p+\"/\"+img)\n",
    "        X.append(numpy.array(cv2.imread(p+\"/\"+img,0))/255)\n",
    "        if fol==\"angry\":\n",
    "            label.append([1,0,0,0,0,0])\n",
    "        elif fol==\"fear\":\n",
    "            label.append([0,1,0,0,0,0])\n",
    "        elif fol==\"happy\":\n",
    "            label.append([0,0,1,0,0,0])\n",
    "        elif fol==\"neutral\":\n",
    "            label.append([0,0,0,1,0,0])\n",
    "        elif fol==\"sad\":\n",
    "            label.append([0,0,0,0,1,0])\n",
    "        elif fol==\"surprise\":\n",
    "            label.append([0,0,0,0,0,1])"
   ]
  },
  {
   "cell_type": "code",
   "execution_count": 81,
   "metadata": {},
   "outputs": [],
   "source": [
    "X=numpy.array(X)"
   ]
  },
  {
   "cell_type": "code",
   "execution_count": null,
   "metadata": {},
   "outputs": [],
   "source": [
    "import random\n",
    "# random.shuffle(X)"
   ]
  },
  {
   "cell_type": "code",
   "execution_count": 98,
   "metadata": {},
   "outputs": [],
   "source": [
    "\n",
    "Model=load_model('./Model.h5')\n",
    "# Model=pickle.load(open(\"./Model.pkl\",\"rb\"))\n",
    "import matplotlib.pyplot as plt\n",
    "pr=Model.predict(X)\n",
    "\n"
   ]
  },
  {
   "cell_type": "code",
   "execution_count": 114,
   "metadata": {},
   "outputs": [],
   "source": [
    "def predict(index):\n",
    "    plt.imshow(X[index])\n",
    "    print({\n",
    "        \"Predict Answer \": Classes[numpy.argmax(pr[index])],\n",
    "        \"True Answer \": Classes[numpy.argmax(label[index])]\n",
    "    })\n",
    "\n"
   ]
  },
  {
   "cell_type": "code",
   "execution_count": 117,
   "metadata": {},
   "outputs": [
    {
     "name": "stdout",
     "output_type": "stream",
     "text": [
      "{'Predict Answer ': 'angry', 'True Answer ': 'happy'}\n"
     ]
    },
    {
     "data": {
      "image/png": "[encoded data removed]",
      "text/plain": [
       "<Figure size 640x480 with 1 Axes>"
      ]
     },
     "metadata": {},
     "output_type": "display_data"
    }
   ],
   "source": [
    "predict(3000)"
   ]
  }
 ],
 "metadata": {
  "kernelspec": {
   "display_name": "Python 3",
   "language": "python",
   "name": "python3"
  },
  "language_info": {
   "codemirror_mode": {
    "name": "ipython",
    "version": 3
   },
   "file_extension": ".py",
   "mimetype": "text/x-python",
   "name": "python",
   "nbconvert_exporter": "python",
   "pygments_lexer": "ipython3",
   "version": "3.7.0 (v3.7.0:1bf9cc5093, Jun 27 2018, 04:59:51) [MSC v.1914 64 bit (AMD64)]"
  },
  "orig_nbformat": 4,
  "vscode": {
   "interpreter": {
    "hash": "e47368d29204983708f2837840837dba8cdc682d02472bd146cf4fb2d32fdf57"
   }
  }
 },
 "nbformat": 4,
 "nbformat_minor": 2
}
