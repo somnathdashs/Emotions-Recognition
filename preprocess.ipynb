{
 "cells": [
  {
   "cell_type": "code",
   "execution_count": 1,
   "metadata": {},
   "outputs": [],
   "source": [
    "import os\n",
    "import numpy as np\n",
    "import matplotlib.pyplot as plt\n",
    "# from imgaug import augmenters as ia\n",
    "import pandas as pd\n",
    "import cv2,pickle"
   ]
  },
  {
   "cell_type": "code",
   "execution_count": 2,
   "metadata": {},
   "outputs": [
    {
     "data": {
      "text/plain": [
       "['angry', 'disgust', 'fear', 'happy', 'neutral', 'sad', 'surprise']"
      ]
     },
     "execution_count": 2,
     "metadata": {},
     "output_type": "execute_result"
    }
   ],
   "source": [
    "PATH=\"./Dataset/images/\"\n",
    "Classes=os.listdir(PATH+\"train/\")\n",
    "Classes"
   ]
  },
  {
   "cell_type": "code",
   "execution_count": 3,
   "metadata": {},
   "outputs": [],
   "source": [
    "def get_len():\n",
    "    for c in Classes:\n",
    "        path=PATH+\"train/\"+c\n",
    "        o=len(os.listdir(path))\n",
    "        print({\n",
    "            \"Class \":c,\n",
    "            \"len \" :o\n",
    "        })"
   ]
  },
  {
   "cell_type": "code",
   "execution_count": 4,
   "metadata": {},
   "outputs": [
    {
     "data": {
      "text/plain": [
       "'disgust'"
      ]
     },
     "execution_count": 4,
     "metadata": {},
     "output_type": "execute_result"
    }
   ],
   "source": [
    "Classes.pop(1)"
   ]
  },
  {
   "cell_type": "code",
   "execution_count": 5,
   "metadata": {},
   "outputs": [],
   "source": [
    "df=pd.read_csv(\"./Dataset/data.csv\")"
   ]
  },
  {
   "cell_type": "code",
   "execution_count": 6,
   "metadata": {},
   "outputs": [
    {
     "data": {
      "text/plain": [
       "['angry', 'fear', 'happy', 'neutral', 'sad', 'surprise']"
      ]
     },
     "execution_count": 6,
     "metadata": {},
     "output_type": "execute_result"
    }
   ],
   "source": [
    "X=[]\n",
    "Y=[]\n",
    "Classes"
   ]
  },
  {
   "cell_type": "code",
   "execution_count": 7,
   "metadata": {},
   "outputs": [
    {
     "data": {
      "text/plain": [
       "0"
      ]
     },
     "execution_count": 7,
     "metadata": {},
     "output_type": "execute_result"
    }
   ],
   "source": [
    "len(X)"
   ]
  },
  {
   "cell_type": "code",
   "execution_count": 8,
   "metadata": {},
   "outputs": [],
   "source": [
    "#Angry -> 0\n",
    "path=\"./Dataset/images/train/angry/\"\n",
    "for img in os.listdir(path):\n",
    "    new_path=path+img\n",
    "    image=np.array(cv2.imread(new_path,1))/255\n",
    "    X.append(image)\n",
    "    Y.append(0)"
   ]
  },
  {
   "cell_type": "code",
   "execution_count": 9,
   "metadata": {},
   "outputs": [
    {
     "data": {
      "text/plain": [
       "(3993, 48, 48, 3)"
      ]
     },
     "execution_count": 9,
     "metadata": {},
     "output_type": "execute_result"
    }
   ],
   "source": [
    "np.array(X).shape"
   ]
  },
  {
   "cell_type": "code",
   "execution_count": 10,
   "metadata": {},
   "outputs": [],
   "source": [
    "#Fear -> 1\n",
    "path=\"./Dataset/images/train/fear/\"\n",
    "for img in os.listdir(path):\n",
    "    new_path=path+img\n",
    "    image=np.array(cv2.imread(new_path,1))/255\n",
    "    X.append(image)\n",
    "    Y.append(1)\n"
   ]
  },
  {
   "cell_type": "code",
   "execution_count": 11,
   "metadata": {},
   "outputs": [],
   "source": [
    "#happy -> 2\n",
    "path=\"./Dataset/images/train/happy/\"\n",
    "for img in os.listdir(path):\n",
    "    new_path=path+img\n",
    "    image=np.array(cv2.imread(new_path,1))/255\n",
    "    X.append(image)\n",
    "    Y.append(2)\n"
   ]
  },
  {
   "cell_type": "code",
   "execution_count": 12,
   "metadata": {},
   "outputs": [],
   "source": [
    "#neutral -> 3\n",
    "path=\"./Dataset/images/train/neutral/\"\n",
    "lis=os.listdir(path)\n",
    "for img in lis:\n",
    "    new_path=path+img\n",
    "    image=np.array(cv2.imread(new_path,1))/255\n",
    "    X.append(image)\n",
    "    Y.append(3)\n"
   ]
  },
  {
   "cell_type": "code",
   "execution_count": 13,
   "metadata": {},
   "outputs": [],
   "source": [
    "#sad -> 4\n",
    "path=\"./Dataset/images/train/sad/\"\n",
    "for img in os.listdir(path):\n",
    "    new_path=path+img\n",
    "    image=np.array(cv2.imread(new_path,1))/255\n",
    "    X.append(image)\n",
    "    Y.append(4)\n"
   ]
  },
  {
   "cell_type": "code",
   "execution_count": 14,
   "metadata": {},
   "outputs": [],
   "source": [
    "#surprise -> 5\n",
    "path=\"./Dataset/images/train/surprise/\"\n",
    "for img in os.listdir(path):\n",
    "    new_path=path+img\n",
    "    image=np.array(cv2.imread(new_path,1))/255\n",
    "    X.append(image)\n",
    "    Y.append(5)\n"
   ]
  },
  {
   "cell_type": "code",
   "execution_count": 15,
   "metadata": {},
   "outputs": [
    {
     "data": {
      "text/plain": [
       "28385"
      ]
     },
     "execution_count": 15,
     "metadata": {},
     "output_type": "execute_result"
    }
   ],
   "source": [
    "arr=[]\n",
    "for c in Classes:\n",
    "    path=PATH+\"train/\"+c\n",
    "    arr.append(len(os.listdir(path)))\n",
    "\n",
    "sum(arr)\n",
    "    "
   ]
  },
  {
   "cell_type": "code",
   "execution_count": 16,
   "metadata": {},
   "outputs": [
    {
     "data": {
      "text/plain": [
       "28385"
      ]
     },
     "execution_count": 16,
     "metadata": {},
     "output_type": "execute_result"
    }
   ],
   "source": [
    "len(X)"
   ]
  },
  {
   "cell_type": "code",
   "execution_count": 17,
   "metadata": {},
   "outputs": [],
   "source": [
    "X=np.array(X)\n",
    "Y=np.array(Y)"
   ]
  },
  {
   "cell_type": "code",
   "execution_count": null,
   "metadata": {},
   "outputs": [],
   "source": [
    "fx=open(\"./X.pkl\",'wb')\n",
    "fy=open(\"./Y_binary.pkl\",'wb')\n",
    "pickle.dump(X,fx)\n",
    "pickle.dump(Y,fy)"
   ]
  }
 ],
 "metadata": {
  "kernelspec": {
   "display_name": "Python 3",
   "language": "python",
   "name": "python3"
  },
  "language_info": {
   "codemirror_mode": {
    "name": "ipython",
    "version": 3
   },
   "file_extension": ".py",
   "mimetype": "text/x-python",
   "name": "python",
   "nbconvert_exporter": "python",
   "pygments_lexer": "ipython3",
   "version": "3.7.0 (v3.7.0:1bf9cc5093, Jun 27 2018, 04:59:51) [MSC v.1914 64 bit (AMD64)]"
  },
  "orig_nbformat": 4,
  "vscode": {
   "interpreter": {
    "hash": "e47368d29204983708f2837840837dba8cdc682d02472bd146cf4fb2d32fdf57"
   }
  }
 },
 "nbformat": 4,
 "nbformat_minor": 2
}
